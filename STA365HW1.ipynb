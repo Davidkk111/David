{
 "cells": [
  {
   "cell_type": "markdown",
   "id": "bb90335e",
   "metadata": {},
   "source": [
    "# The data should be binomial,so we using binomial distribution. \n",
    "# 𝑝(𝑥|𝜃,𝑛)∝𝜃^𝑥(1−𝜃)^𝑛−𝑥 Likelihood function for binomial distribution \n",
    "# 𝑝(𝜃|𝛼,𝛽)∝𝜃^(𝛼−1)(1−𝜃)^(𝛽−1) Prior 𝑝(𝜃|𝑥) \n",
    "# ∝ 𝜃^(𝑥+𝛼−1)(1−𝜃)^(𝑛−𝑥+𝛽−1) Posterior From the formula of our posterior distribution, we can find out it is beta distribution. \n",
    "# I build a experiment with thetaA,thetaB,thetaC = 0.4,0.5,0.6. Since we know nothing about the distribution, I will start with a uniform prior distribution(𝜃^(𝛼−1)(1−𝜃)^(𝛽−1) with 𝛼 and 𝛽 both equal to one. First play each game 100 times to collect data to update our posterior distribution. "
   ]
  },
  {
   "cell_type": "code",
   "execution_count": 101,
   "id": "fe8eb9fe",
   "metadata": {},
   "outputs": [],
   "source": [
    "import numpy as np\n",
    "from scipy import stats\n",
    "np.random.seed(365)#Set seeds\n",
    "thetas = [0.4,0.5,0.6]#Experiment set up\n",
    "prior = {theta: [1, 1] for theta in thetas}#Prior"
   ]
  },
  {
   "cell_type": "code",
   "execution_count": 102,
   "id": "647011dd",
   "metadata": {},
   "outputs": [
    {
     "data": {
      "text/plain": [
       "[0.6, 0.6, 0.6, 0.6, 0.6, 0.6, 0.6, 0.6, 0.6, 0.6]"
      ]
     },
     "execution_count": 102,
     "metadata": {},
     "output_type": "execute_result"
    }
   ],
   "source": [
    "selects = []\n",
    "for i in range(100):\n",
    "    for j in thetas:\n",
    "        posterior = {theta: a / (a + b) for theta, (a, b) in prior.items()}\n",
    "        currents = max(posterior,key=posterior.get)\n",
    "        selects.append(currents)\n",
    "        result = stats.binom(n=1,p=j).rvs(size=1)\n",
    "        if result == 1:\n",
    "            prior[j][0]+=1\n",
    "        else:\n",
    "            prior[j][1]+=1\n",
    "selects[-10:]"
   ]
  },
  {
   "cell_type": "markdown",
   "id": "8fc7e09d",
   "metadata": {},
   "source": [
    "# From the last 10 elements in the list, we can know which theta is the largest and has highest succeed rate. \n",
    "# "
   ]
  }
 ],
 "metadata": {
  "kernelspec": {
   "display_name": "Python 3 (ipykernel)",
   "language": "python",
   "name": "python3"
  },
  "language_info": {
   "codemirror_mode": {
    "name": "ipython",
    "version": 3
   },
   "file_extension": ".py",
   "mimetype": "text/x-python",
   "name": "python",
   "nbconvert_exporter": "python",
   "pygments_lexer": "ipython3",
   "version": "3.11.6"
  }
 },
 "nbformat": 4,
 "nbformat_minor": 5
}
