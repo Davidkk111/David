{
 "cells": [
  {
   "cell_type": "markdown",
   "id": "777d94eb",
   "metadata": {},
   "source": [
    "# HW8\n",
    "1. Describe how the posterior predictive distribution is created for mixture models\n",
    "First,specify the component distributions that make up the mixture model and assign prior distributions to the parameters of the component distributions and the mixing coefficients.\n",
    "Second, using the observed data, perform Bayesian inference like MCMC or HMC to update the priors into posterior distributions. And we can estimate the posterior distributions of the mixing coefficients for predicting.\n",
    "2. Describe how the posterior predictive distribution is created in general\n",
    "Start by specifying a model for the data, which includes defining the likelihood function. Select prior distributions p(θ) that represent belief about the parameters before observing the data for the parameters.\n",
    "Then using the observed data, perform Bayesian inference like MCMC or HMC to update the priors into posterior distributions. And we can estimate the posterior distributions of the mixing coefficients for predicting.\n",
    "3. Have glance through this and then describe how, if you were doing a regression of  𝑦 on  𝑋 but  𝑋 had some missing values, you could perform a Bayesian analysis without throwing away the rows with missing values in  𝑋\n",
    "There are three situation of data missing:Missing Completely at Random (MCAR),Missing at Random (MAR),Missing Not at Random (MNAR).\n",
    "For Missing Completely at Random (MCAR):The missingness of data is unrelated to any observed or unobserved data. Bayesian methods can treat missing data as latent variables and impute them without biasing the analysis.\n",
    "For Missing at Random (MAR):The missingness is related to the observed data but not the unobserved missing data. Bayesian methods can still effectively impute missing values by modeling the probability of missingness based on observed data.\n",
    "For Missing Not at Random (MNAR):  The missingness is related to the unobserved missing data. This is the most challenging scenario, requiring sophisticated models that explicitly account for the mechanism of missingness within the Bayesian framework."
   ]
  },
  {
   "cell_type": "code",
   "execution_count": null,
   "id": "805809c7",
   "metadata": {},
   "outputs": [],
   "source": []
  }
 ],
 "metadata": {
  "kernelspec": {
   "display_name": "Python 3 (ipykernel)",
   "language": "python",
   "name": "python3"
  },
  "language_info": {
   "codemirror_mode": {
    "name": "ipython",
    "version": 3
   },
   "file_extension": ".py",
   "mimetype": "text/x-python",
   "name": "python",
   "nbconvert_exporter": "python",
   "pygments_lexer": "ipython3",
   "version": "3.11.6"
  }
 },
 "nbformat": 4,
 "nbformat_minor": 5
}
